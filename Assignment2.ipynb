{
  "nbformat": 4,
  "nbformat_minor": 0,
  "metadata": {
    "colab": {
      "provenance": []
    },
    "kernelspec": {
      "name": "python3",
      "display_name": "Python 3"
    },
    "language_info": {
      "name": "python"
    }
  },
  "cells": [
    {
      "cell_type": "code",
      "execution_count": 5,
      "metadata": {
        "colab": {
          "base_uri": "https://localhost:8080/"
        },
        "id": "7TWxjmXbr0gz",
        "outputId": "497ab2d1-1fc2-4fee-a21a-26582d3afcc3"
      },
      "outputs": [
        {
          "output_type": "stream",
          "name": "stdout",
          "text": [
            "Vehicle Name: Toyota Camry\n",
            "Maximum Speed: 120 mph\n",
            "Average Fuel Consumption: 30 mpg\n"
          ]
        }
      ],
      "source": [
        "#Question 1\n",
        "class Vehicle:\n",
        "    def __init__(self, name_of_vehicle, max_speed, average_of_vehicle):\n",
        "        self.name_of_vehicle = name_of_vehicle\n",
        "        self.max_speed = max_speed\n",
        "        self.average_of_vehicle = average_of_vehicle\n",
        "\n",
        "    def display_info(self):\n",
        "        print(f\"Vehicle Name: {self.name_of_vehicle}\")\n",
        "        print(f\"Maximum Speed: {self.max_speed} mph\")\n",
        "        print(f\"Average Fuel Consumption: {self.average_of_vehicle} mpg\")\n",
        "\n",
        "\n",
        "my_car = Vehicle(\"Toyota Camry\", 120, 30)\n",
        "\n",
        "my_car.display_info()\n"
      ]
    },
    {
      "cell_type": "code",
      "source": [
        "#Question 2\n",
        "class Vehicle:\n",
        "    def __init__(self, name, color):\n",
        "        self.name = name\n",
        "        self.color = color\n",
        "\n",
        "    def display_info(self):\n",
        "        return f\"Name: {self.name}, Color: {self.color}\"\n",
        "\n",
        "class Car(Vehicle):\n",
        "    def __init__(self, name, color, brand):\n",
        "        super().__init__(name, color)\n",
        "        self.brand = brand\n",
        "\n",
        "    def seating_capacity(self, capacity):\n",
        "        return f\"{self.name} by {self.brand} has a seating capacity of {capacity} people\"\n",
        "\n",
        "\n",
        "my_car = Car(\"Sedan\", \"Blue\", \"ABC Motors\")\n",
        "capacity = 5\n",
        "print(my_car.display_info())\n",
        "print(my_car.seating_capacity(capacity))\n"
      ],
      "metadata": {
        "colab": {
          "base_uri": "https://localhost:8080/"
        },
        "id": "VOycgQH1sq4v",
        "outputId": "fdee2921-0d47-4907-8780-8750ba902f2f"
      },
      "execution_count": 6,
      "outputs": [
        {
          "output_type": "stream",
          "name": "stdout",
          "text": [
            "Name: Sedan, Color: Blue\n",
            "Sedan by ABC Motors has a seating capacity of 5 people\n"
          ]
        }
      ]
    },
    {
      "cell_type": "code",
      "source": [
        "#Question 4\n",
        "class Person:\n",
        "    def __init__(self, name, age, gender):\n",
        "        self.__name = name  # Encapsulation: Make age property private\n",
        "        self.__age = age\n",
        "        self.gender = gender\n",
        "\n",
        "    def say_hello(self):\n",
        "        print(f\"Hello, my name is {self.__name}.\")\n",
        "\n",
        "    def is_adult(self):\n",
        "        return self.__age >= 18\n",
        "\n",
        "    # Encapsulation: Create a method to allow access to the private age property\n",
        "    def get_age(self):\n",
        "        return self.__age\n",
        "\n",
        "class Student(Person):\n",
        "    def __init__(self, name, age, gender, student_id, course):\n",
        "        super().__init__(name, age, gender)\n",
        "        self.student_id = student_id\n",
        "        self.course = course\n",
        "\n",
        "    def get_student_info(self):\n",
        "        return f\"Student ID: {self.student_id}, Name: {self._Person__name}, Age: {self.get_age()}, Gender: {self.gender}, Course: {self.course}\"\n",
        "\n",
        "class Teacher(Person):\n",
        "    def __init__(self, name, age, gender, teacher_id, subject):\n",
        "        super().__init__(name, age, gender)\n",
        "        self.teacher_id = teacher_id\n",
        "        self.subject = subject\n",
        "\n",
        "    def say_hello(self):  # Polymorphism: Override say_hello() for Teacher\n",
        "        print(f\"Hello, I am {self._Person__name}, your {self.subject} teacher.\")\n",
        "\n",
        "# Example usage:\n",
        "person1 = Person(\"Alice\", 25, \"Female\")\n",
        "person1.say_hello()\n",
        "print(f\"Is {person1._Person__name} an adult? {person1.is_adult()}\")\n",
        "\n",
        "student1 = Student(\"Bob\", 19, \"Male\", \"12345\", \"Computer Science\")\n",
        "student1.say_hello()\n",
        "print(student1.get_student_info())\n",
        "print(f\"Is {student1._Person__name} an adult? {student1.is_adult()}\")\n",
        "\n",
        "teacher1 = Teacher(\"Mr. Smith\", 35, \"Male\", \"T123\", \"Math\")\n",
        "teacher1.say_hello()\n",
        "print(f\"Is {teacher1._Person__name} an adult? {teacher1.is_adult()}\")\n"
      ],
      "metadata": {
        "colab": {
          "base_uri": "https://localhost:8080/"
        },
        "id": "G0VFmRXgt-s4",
        "outputId": "03615818-a090-4c7e-9a92-bc958226b46a"
      },
      "execution_count": 4,
      "outputs": [
        {
          "output_type": "stream",
          "name": "stdout",
          "text": [
            "Hello, my name is Alice.\n",
            "Is Alice an adult? True\n",
            "Hello, my name is Bob.\n",
            "Student ID: 12345, Name: Bob, Age: 19, Gender: Male, Course: Computer Science\n",
            "Is Bob an adult? True\n",
            "Hello, I am Mr. Smith, your Math teacher.\n",
            "Is Mr. Smith an adult? True\n"
          ]
        }
      ]
    },
    {
      "cell_type": "code",
      "source": [],
      "metadata": {
        "id": "n61ypUvKxQRL"
      },
      "execution_count": null,
      "outputs": []
    }
  ]
}